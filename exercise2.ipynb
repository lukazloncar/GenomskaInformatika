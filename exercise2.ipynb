{
 "cells": [
  {
   "cell_type": "code",
   "execution_count": 1,
   "metadata": {},
   "outputs": [
    {
     "name": "stdout",
     "output_type": "stream",
     "text": [
      "Collecting pysam\n",
      "  Downloading pysam-0.16.0.1-cp38-cp38-manylinux1_x86_64.whl (10.2 MB)\n",
      "\u001b[K     |████████████████████████████████| 10.2 MB 12.1 MB/s eta 0:00:01\n",
      "\u001b[?25hInstalling collected packages: pysam\n",
      "Successfully installed pysam-0.16.0.1\n"
     ]
    }
   ],
   "source": [
    "import sys\n",
    "!{sys.executable} -m pip install pysam"
   ]
  },
  {
   "cell_type": "code",
   "execution_count": 12,
   "metadata": {},
   "outputs": [
    {
     "name": "stdout",
     "output_type": "stream",
     "text": [
      "Number of unmapped: 0\n",
      "Number of reads: 2921629\n",
      "Number of reads with mapping quality 0: 126628\n",
      "Average mapping quality: 55.91379158681681\n",
      "Filtered mapping quality: 58.446975510921106\n"
     ]
    }
   ],
   "source": [
    "import pysam\n",
    "AlignmentFile = pysam.AlignmentFile(\"merged-tumor.bam\", \"rb\")\n",
    "\n",
    "#Number of unmapped reads\n",
    "num_of_unmapped = AlignmentFile.unmapped\n",
    "print(\"Number of unmapped: \" + str(num_of_unmapped))\n",
    "\n",
    "#Total number of reads\n",
    "number_of_reads = AlignmentFile.count()\n",
    "print(\"Number of reads: \" + str(number_of_reads))\n",
    "\n",
    "#list_of_shit = [\"hello\" for fr in AlignmentFile.fetch() if fr.mapping_quality == 0]\n",
    "#print(\"NOVI Number of reads with mapping quality 0: \" + str(len(list_of_shit)))\n",
    "\n",
    "number_of_reads_map_quality_zero = 0\n",
    "number_of_reads_without_zero_map_quality = 0\n",
    "mapping_quality_sum = 0\n",
    "filtered_mapping_quality_sum = 0\n",
    "\n",
    "for fr in AlignmentFile.fetch():\n",
    "    if(fr.mapping_quality == 0):\n",
    "        number_of_reads_map_quality_zero = number_of_reads_map_quality_zero + 1\n",
    "    else:\n",
    "        number_of_reads_without_zero_map_quality = number_of_reads_without_zero_map_quality + 1\n",
    "        filtered_mapping_quality_sum = filtered_mapping_quality_sum + fr.mapping_quality\n",
    "    mapping_quality_sum = mapping_quality_sum + fr.mapping_quality \n",
    "\n",
    "print(\"Number of reads with mapping quality 0: \" + str(number_of_reads_map_quality_zero))\n",
    "    \n",
    "average_mapping_quality = mapping_quality_sum/number_of_reads\n",
    "print(\"Average mapping quality: \" + str(average_mapping_quality))\n",
    "\n",
    "filtered_mapping_quality = filtered_mapping_quality_sum/number_of_reads_without_zero_map_quality\n",
    "print(\"Filtered mapping quality: \" + str(filtered_mapping_quality))\n",
    "\n",
    "AlignmentFile.close()\n"
   ]
  },
  {
   "cell_type": "code",
   "execution_count": null,
   "metadata": {},
   "outputs": [],
   "source": []
  }
 ],
 "metadata": {
  "kernelspec": {
   "display_name": "Python 3",
   "language": "python",
   "name": "python3"
  },
  "language_info": {
   "codemirror_mode": {
    "name": "ipython",
    "version": 3
   },
   "file_extension": ".py",
   "mimetype": "text/x-python",
   "name": "python",
   "nbconvert_exporter": "python",
   "pygments_lexer": "ipython3",
   "version": "3.8.3"
  }
 },
 "nbformat": 4,
 "nbformat_minor": 4
}
